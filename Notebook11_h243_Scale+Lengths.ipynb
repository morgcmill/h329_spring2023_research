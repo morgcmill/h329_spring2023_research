{
 "cells": [
  {
   "cell_type": "markdown",
   "metadata": {},
   "source": [
    "# Notebook 11: h243 Scale Lengths Exploration\n",
    "\n",
    "Looking into the scale length of h243"
   ]
  },
  {
   "cell_type": "markdown",
   "metadata": {},
   "source": [
    "## Setup"
   ]
  },
  {
   "cell_type": "code",
   "execution_count": 10,
   "metadata": {
    "collapsed": true
   },
   "outputs": [],
   "source": [
    "import astropy\n",
    "\n",
    "import matplotlib.pyplot as plt\n",
    "import h5py\n",
    "import pynbody\n",
    "from pynbody.analysis import profile\n",
    "from scipy.optimize import curve_fit\n",
    "\n",
    "from morgans_sim_setup import *\n",
    "from Galaxy_Scales import *\n",
    "import numpy as np\n",
    "import pandas as pd"
   ]
  },
  {
   "cell_type": "code",
   "execution_count": 2,
   "metadata": {
    "collapsed": false
   },
   "outputs": [
    {
     "name": "stdout",
     "output_type": "stream",
     "text": [
      "loading sim\n",
      "making faceon\n"
     ]
    }
   ],
   "source": [
    "path_to_h243 = '/astro/store/gradscratch/tmp/sanchenn/P0_4096_ts/pioneer50h243.1536gst1bwK1BH.004096'\n",
    "\n",
    "h243, h243_h, h243_h1 = sim_setup(path_to_h243)"
   ]
  },
  {
   "cell_type": "code",
   "execution_count": 3,
   "metadata": {
    "collapsed": true
   },
   "outputs": [],
   "source": [
    "## Setting up disk filter (walked through in Notebook 2)\n",
    "\n",
    "radius_d = 30\n",
    "height_d = 2 ## thickness height is centered on the center defined below\n",
    "center_d = (0,0,0)\n",
    "f_disk = pynbody.filt.Disc(radius_d, height_d, center_d)\n"
   ]
  },
  {
   "cell_type": "markdown",
   "metadata": {},
   "source": [
    "## Adding Age Filters"
   ]
  },
  {
   "cell_type": "code",
   "execution_count": 4,
   "metadata": {
    "collapsed": true
   },
   "outputs": [],
   "source": [
    "young_14 = pynbody.filt.LowPass('age', '14 Gyr')\n",
    "young_10 = pynbody.filt.LowPass('age', '10 Gyr')\n",
    "young_8 = pynbody.filt.LowPass('age', '8 Gyr')\n",
    "young_6 = pynbody.filt.LowPass('age', '6 Gyr')\n",
    "young_3 = pynbody.filt.LowPass('age', '3 Gyr')"
   ]
  },
  {
   "cell_type": "code",
   "execution_count": 6,
   "metadata": {
    "collapsed": false
   },
   "outputs": [],
   "source": [
    "h243_s_14 = h243.s[f_disk & young_14]\n",
    "h243_s_10 = h243.s[f_disk & young_10]\n",
    "h243_s_8 = h243.s[f_disk & young_8]\n",
    "h243_s_6 = h243.s[f_disk & young_6]\n",
    "h243_s_3 = h243.s[f_disk & young_3]"
   ]
  },
  {
   "cell_type": "markdown",
   "metadata": {},
   "source": [
    "## Setting Up Arrays"
   ]
  },
  {
   "cell_type": "code",
   "execution_count": 7,
   "metadata": {
    "collapsed": true
   },
   "outputs": [],
   "source": [
    "h243_p_s_vert_14 = profile.VerticalProfile(h243_s_14, '5 kpc', '20 kpc', '2 kpc') ## vertical profile\n",
    "h243_p_s_14 = pynbody.analysis.profile.Profile(h243_s_14, vmin =.01) ## radial profile\n",
    "\n",
    "h243_p_s_vert_10 = profile.VerticalProfile(h243_s_10, '5 kpc', '20 kpc', '2 kpc') ## vertical profile\n",
    "h243_p_s_10 = pynbody.analysis.profile.Profile(h243_s_10, vmin =.01) ## radial profile\n",
    "\n",
    "h243_p_s_vert_8 = profile.VerticalProfile(h243_s_8, '5 kpc', '20 kpc', '2 kpc') ## vertical profile\n",
    "h243_p_s_8 = pynbody.analysis.profile.Profile(h243_s_8, vmin =.01) ## radial profile\n",
    "\n",
    "h243_p_s_vert_6 = profile.VerticalProfile(h243_s_6, '5 kpc', '20 kpc', '2 kpc') ## vertical profile\n",
    "h243_p_s_6 = pynbody.analysis.profile.Profile(h243_s_6, vmin =.01) ## radial profile\n",
    "\n",
    "h243_p_s_vert_3 = profile.VerticalProfile(h243_s_3, '5 kpc', '20 kpc', '2 kpc') ## vertical profile\n",
    "h243_p_s_3 = pynbody.analysis.profile.Profile(h243_s_3, vmin =.01) ## radial profile\n"
   ]
  },
  {
   "cell_type": "code",
   "execution_count": 8,
   "metadata": {
    "collapsed": true
   },
   "outputs": [],
   "source": [
    "my_r_14 = h243_p_s_14['rbins'].in_units('kpc')\n",
    "my_mass_r_14 = h243_p_s_14['mass'].in_units('Msol')\n",
    "my_z_14 = h243_p_s_vert_14['rbins'].in_units('kpc')\n",
    "my_mass_z_14 = h243_p_s_vert_14['mass'].in_units('Msol')\n",
    "\n",
    "my_r_10 = h243_p_s_10['rbins'].in_units('kpc')\n",
    "my_mass_r_10 = h243_p_s_10['mass'].in_units('Msol')\n",
    "my_z_10 = h243_p_s_vert_10['rbins'].in_units('kpc')\n",
    "my_mass_z_10 = h243_p_s_vert_10['mass'].in_units('Msol')\n",
    "\n",
    "my_r_8 = h243_p_s_8['rbins'].in_units('kpc')\n",
    "my_mass_r_8 = h243_p_s_8['mass'].in_units('Msol')\n",
    "my_z_8 = h243_p_s_vert_8['rbins'].in_units('kpc')\n",
    "my_mass_z_8 = h243_p_s_vert_8['mass'].in_units('Msol')\n",
    "\n",
    "my_r_6 = h243_p_s_6['rbins'].in_units('kpc')\n",
    "my_mass_r_6 = h243_p_s_6['mass'].in_units('Msol')\n",
    "my_z_6 = h243_p_s_vert_6['rbins'].in_units('kpc')\n",
    "my_mass_z_6 = h243_p_s_vert_6['mass'].in_units('Msol')\n",
    "\n",
    "my_r_3 = h243_p_s_3['rbins'].in_units('kpc')\n",
    "my_mass_r_3 = h243_p_s_3['mass'].in_units('Msol')\n",
    "my_z_3 = h243_p_s_vert_3['rbins'].in_units('kpc')\n",
    "my_mass_z_3 = h243_p_s_vert_3['mass'].in_units('Msol')"
   ]
  },
  {
   "cell_type": "markdown",
   "metadata": {},
   "source": [
    "## Scale Lengths"
   ]
  },
  {
   "cell_type": "code",
   "execution_count": 11,
   "metadata": {
    "collapsed": false
   },
   "outputs": [],
   "source": [
    "h243_14 = Galaxy_Scales(my_r_14, my_mass_r_14, my_z_14, my_mass_z_14)\n",
    "h243_10 = Galaxy_Scales(my_r_10, my_mass_r_10, my_z_10, my_mass_z_10)\n",
    "h243_8 = Galaxy_Scales(my_r_8, my_mass_r_8, my_z_8, my_mass_z_8)\n",
    "h243_6 = Galaxy_Scales(my_r_6, my_mass_r_6, my_z_6, my_mass_z_6)\n",
    "h243_3 = Galaxy_Scales(my_r_3, my_mass_r_3, my_z_3, my_mass_z_3)"
   ]
  },
  {
   "cell_type": "code",
   "execution_count": 15,
   "metadata": {
    "collapsed": false
   },
   "outputs": [
    {
     "name": "stdout",
     "output_type": "stream",
     "text": [
      "2.67177466299 2.50757689484 2.30950521548 2.1716361774 1.97067864907\n"
     ]
    }
   ],
   "source": [
    "print(h243_14.scale_length(), h243_10.scale_length(), h243_8.scale_length(), h243_6.scale_length(), h243_3.scale_length())\n"
   ]
  },
  {
   "cell_type": "code",
   "execution_count": null,
   "metadata": {
    "collapsed": true
   },
   "outputs": [],
   "source": []
  }
 ],
 "metadata": {
  "kernelspec": {
   "display_name": "Python [default]",
   "language": "python",
   "name": "python3"
  },
  "language_info": {
   "codemirror_mode": {
    "name": "ipython",
    "version": 3
   },
   "file_extension": ".py",
   "mimetype": "text/x-python",
   "name": "python",
   "nbconvert_exporter": "python",
   "pygments_lexer": "ipython3",
   "version": "3.5.2"
  }
 },
 "nbformat": 4,
 "nbformat_minor": 2
}
